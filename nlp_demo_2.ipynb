{
 "cells": [
  {
   "cell_type": "markdown",
   "metadata": {
    "id": "SL9Sl3TlF74C"
   },
   "source": [
    "In this assignment, you will perform three NLP tasks using Hugging Face tokenizers, models, and pipelines. The goal is to learn:\n",
    "\n",
    "- How to use Hugging Face tokenizers for preprocessing tasks like padding, truncation, and batching of text.\n",
    "\n",
    "- How model configuration works, including mapping between id2label and label2id for token classification tasks.\n",
    "\n",
    "- How Hugging Face models work, including passing text through the model to generate logits.\n",
    "\n",
    "- How to use the logits output from Hugging Face models to make predictions for your NLP task.\n",
    "\n",
    "- How to recreate Hugging Face pipelines by using the tokenizers and models directly, instead of relying on the pipelines.\n",
    "\n",
    "- Compare the results of using the tokenizers and models directly versus using the Hugging Face pipelines to evaluate the differences.\n",
    "\n",
    "The focus of this assignment is gaining hands-on experience with Hugging Face tokenizers, configuration, models, and pipelines through implementing three text processing tasks end-to-end. This will provide a deeper understanding of how these key NLP components work."
   ]
  },
  {
   "cell_type": "markdown",
   "metadata": {
    "id": "yMR3yJ5bFB6q"
   },
   "source": [
    "# Installing Core NLP Libraries\n",
    "\n",
    "This section installs 3 key libraries for NLP and ML projects:\n",
    "\n",
    "- Transformers - Provides access to pretrained models like BERT, RoBERTa for NLP.\n",
    "\n",
    "- Datasets - Provides convenient access to common NLP datasets.\n",
    "\n",
    "- Rich - For nicely formatted console output when training models.\n",
    "\n",
    "Installing these libraries in one line allows quick setup of the Python environment with critical functionality for working on text data.\n"
   ]
  },
  {
   "cell_type": "code",
   "execution_count": null,
   "metadata": {
    "colab": {
     "base_uri": "https://localhost:8080/"
    },
    "executionInfo": {
     "elapsed": 19047,
     "status": "ok",
     "timestamp": 1694211812672,
     "user": {
      "displayName": "Biswajit Khara",
      "userId": "04998448106830231172"
     },
     "user_tz": 300
    },
    "id": "VvRBEfGwG3xl",
    "outputId": "d0ad8a14-00d5-47cd-cb96-b821e37045f2"
   },
   "outputs": [],
   "source": [
    "!pip install transformers datasets rich"
   ]
  },
  {
   "cell_type": "markdown",
   "metadata": {
    "id": "ShprEl7DISw8"
   },
   "source": [
    "The transformers.pipeline() method provides quick access to pretrained NLP models for making predictions. The rich.pretty.pprint() method prints Python objects to the console in a readable formatted way."
   ]
  },
  {
   "cell_type": "code",
   "execution_count": null,
   "metadata": {
    "id": "ZMc0V7uoG6Fi"
   },
   "outputs": [],
   "source": [
    "from transformers import pipeline\n",
    "from rich.pretty import pprint\n",
    "import torch.nn.functional as F\n",
    "import torch"
   ]
  },
  {
   "cell_type": "markdown",
   "metadata": {
    "id": "rbMpxGxuMU_1"
   },
   "source": [
    "Here is documentation for each section of the notebook:\n",
    "\n",
    "\n",
    "\n",
    "\n",
    "# Summary\n",
    "\n",
    "By walking through the pipeline components, this shows how to go from raw text to formatted predictions step-by-step. This provides more visibility than just using the packaged pipeline."
   ]
  },
  {
   "cell_type": "markdown",
   "metadata": {
    "id": "Sp8xNYwuMsQQ"
   },
   "source": []
  },
  {
   "cell_type": "markdown",
   "metadata": {
    "id": "EiQDjpkwMxOY"
   },
   "source": [
    "# Creating a Text Classification Pipeline\n",
    "\n",
    "This section creates a text classification pipeline using Hugging Face's transformers library. The pipeline gives quick access to a pretrained DistilBERT model finetuned on the SST-2 sentiment analysis dataset.\n",
    "\n",
    "The pipeline makes predictions on some sample text, returning the sentiment label and score for each sentence."
   ]
  },
  {
   "cell_type": "code",
   "execution_count": null,
   "metadata": {
    "colab": {
     "base_uri": "https://localhost:8080/"
    },
    "executionInfo": {
     "elapsed": 763,
     "status": "ok",
     "timestamp": 1694215239164,
     "user": {
      "displayName": "Biswajit Khara",
      "userId": "04998448106830231172"
     },
     "user_tz": 300
    },
    "id": "Xcag9ZH0HY0h",
    "outputId": "25b982dd-4575-4cf0-b595-dd74128984a1"
   },
   "outputs": [],
   "source": [
    "classification = pipeline(task=\"text-classification\")"
   ]
  },
  {
   "cell_type": "code",
   "execution_count": null,
   "metadata": {
    "colab": {
     "base_uri": "https://localhost:8080/",
     "height": 34
    },
    "executionInfo": {
     "elapsed": 373,
     "status": "ok",
     "timestamp": 1694212248970,
     "user": {
      "displayName": "Biswajit Khara",
      "userId": "04998448106830231172"
     },
     "user_tz": 300
    },
    "id": "5v_R0IjAHzFS",
    "outputId": "2aa87c87-ab0b-46a4-aaba-b2d3cc5114e7"
   },
   "outputs": [],
   "source": [
    "raw_inputs = [\n",
    "    \"I've been waiting for a HuggingFace course my whole life.\",\n",
    "    \"I hate this so much!\",\n",
    "]\n",
    "results = classification(raw_inputs)\n",
    "pprint(results)"
   ]
  },
  {
   "cell_type": "markdown",
   "metadata": {
    "id": "rOW8wjqjM4Sw"
   },
   "source": []
  },
  {
   "cell_type": "markdown",
   "metadata": {
    "id": "VAeGzjLQM88m"
   },
   "source": [
    "# Loading Tokenizer, Config, and Model\n",
    "\n",
    "This section loads the lower-level components used by the pipeline:\n",
    "\n",
    "- Tokenizer: Preprocesses the text into ids, handles padding/truncation.\n",
    "\n",
    "- Config: Contains model configuration like hyperparams and mapping from ids to labels.\n",
    "\n",
    "- Model: The core Transformer model like DistilBERT that generates embeddings and predictions.\n",
    "\n",
    "Loading these separately gives more control than just using the packaged pipeline.\n"
   ]
  },
  {
   "cell_type": "code",
   "execution_count": null,
   "metadata": {
    "id": "Xp8gwNjII7Ed"
   },
   "outputs": [],
   "source": [
    "from transformers import AutoTokenizer, AutoConfig, AutoModelForSequenceClassification"
   ]
  },
  {
   "cell_type": "code",
   "execution_count": null,
   "metadata": {
    "id": "cCPuumasH7yZ"
   },
   "outputs": [],
   "source": [
    "checkpoint = \"distilbert-base-uncased-finetuned-sst-2-english\""
   ]
  },
  {
   "cell_type": "code",
   "execution_count": null,
   "metadata": {
    "id": "bPKWeLD6I-GE"
   },
   "outputs": [],
   "source": [
    "tokenizer = AutoTokenizer.from_pretrained(checkpoint)\n",
    "config = AutoConfig.from_pretrained(checkpoint)\n",
    "model = AutoModelForSequenceClassification.from_pretrained(checkpoint)"
   ]
  },
  {
   "cell_type": "markdown",
   "metadata": {
    "id": "Ts_jL7RVNGU5"
   },
   "source": [
    "\n",
    "# Tokenizing the Text\n",
    "\n",
    "The tokenizer is used to preprocess the raw text into tokenized ids with padding & truncation to fit the expected model input shape.\n",
    "\n",
    "This shows how the tokenizer prepares the data before passing it to the model.\n"
   ]
  },
  {
   "cell_type": "code",
   "execution_count": null,
   "metadata": {
    "colab": {
     "base_uri": "https://localhost:8080/",
     "height": 153
    },
    "executionInfo": {
     "elapsed": 111,
     "status": "ok",
     "timestamp": 1694215058009,
     "user": {
      "displayName": "Biswajit Khara",
      "userId": "04998448106830231172"
     },
     "user_tz": 300
    },
    "id": "rXOtZO2HJAwy",
    "outputId": "9500e69a-b42d-4454-bd26-0cbc5580d074"
   },
   "outputs": [],
   "source": [
    "inputs = tokenizer(raw_inputs, padding=True, truncation=True, return_tensors=\"pt\")\n",
    "pprint(inputs)"
   ]
  },
  {
   "cell_type": "markdown",
   "metadata": {
    "id": "8uPhUVnqNN0A"
   },
   "source": [
    "# Printing Truncated Text\n",
    "\n",
    "The truncated input text is decoded back to readable text using the tokenizer's decode method.\n",
    "\n",
    "This shows how padding and truncation end up masking part of the original input.\n"
   ]
  },
  {
   "cell_type": "code",
   "execution_count": null,
   "metadata": {
    "colab": {
     "base_uri": "https://localhost:8080/",
     "height": 51
    },
    "executionInfo": {
     "elapsed": 128,
     "status": "ok",
     "timestamp": 1694213409077,
     "user": {
      "displayName": "Biswajit Khara",
      "userId": "04998448106830231172"
     },
     "user_tz": 300
    },
    "id": "FZiAHRRFJOjR",
    "outputId": "cd384458-6e93-487c-ea72-e77cbeec382a"
   },
   "outputs": [],
   "source": [
    "pprint(tokenizer.decode(inputs[\"input_ids\"][0]))\n",
    "pprint(tokenizer.decode(inputs[\"input_ids\"][1]))"
   ]
  },
  {
   "cell_type": "markdown",
   "metadata": {
    "id": "7wWAUu6r83gK"
   },
   "source": [
    "# Passing Inputs to Model\n",
    "\n",
    "The tokenized & padded inputs are passed to the model to generate predictions.\n",
    "\n",
    "This uses the model directly instead of the pipeline, giving more control."
   ]
  },
  {
   "cell_type": "code",
   "execution_count": null,
   "metadata": {
    "colab": {
     "base_uri": "https://localhost:8080/",
     "height": 136
    },
    "executionInfo": {
     "elapsed": 197,
     "status": "ok",
     "timestamp": 1694215158982,
     "user": {
      "displayName": "Biswajit Khara",
      "userId": "04998448106830231172"
     },
     "user_tz": 300
    },
    "id": "UJm4UNCH_Y1Q",
    "outputId": "b9abcf2b-e46f-4ed1-dd1c-9275eb51be33"
   },
   "outputs": [],
   "source": [
    "outputs = model(**inputs)\n",
    "pprint(outputs)"
   ]
  },
  {
   "cell_type": "markdown",
   "metadata": {
    "id": "OD8BLmSdNS9F"
   },
   "source": [
    "# Interpreting Model Outputs\n",
    "\n",
    "This happens in two steps:\n",
    "\n",
    "1. The raw numeric tensor outputs of the model are converted into probability scores and sentiment labels.\n",
    "\n",
    "2. This uses the mapping in the config to go from indices predicted by the model back to the associated labels.\n"
   ]
  },
  {
   "cell_type": "markdown",
   "metadata": {
    "id": "UMiBV9N5NXS9"
   },
   "source": [
    "## Covert logits to probabilities"
   ]
  },
  {
   "cell_type": "code",
   "execution_count": null,
   "metadata": {
    "colab": {
     "base_uri": "https://localhost:8080/",
     "height": 51
    },
    "executionInfo": {
     "elapsed": 95,
     "status": "ok",
     "timestamp": 1694213637669,
     "user": {
      "displayName": "Biswajit Khara",
      "userId": "04998448106830231172"
     },
     "user_tz": 300
    },
    "id": "AkPIG6J8Jfd_",
    "outputId": "5d6d02d3-fd27-4e7c-a2f3-98870e64c8c1"
   },
   "outputs": [],
   "source": [
    "predictions = F.softmax(outputs.logits, dim=-1)\n",
    "pprint(predictions)"
   ]
  },
  {
   "cell_type": "markdown",
   "metadata": {
    "id": "D5axmOUCNdyN"
   },
   "source": [
    "## Loop through probabilities and convert to interpretable results"
   ]
  },
  {
   "cell_type": "code",
   "execution_count": null,
   "metadata": {
    "colab": {
     "base_uri": "https://localhost:8080/",
     "height": 85
    },
    "executionInfo": {
     "elapsed": 130,
     "status": "ok",
     "timestamp": 1694214106978,
     "user": {
      "displayName": "Biswajit Khara",
      "userId": "04998448106830231172"
     },
     "user_tz": 300
    },
    "id": "439dHeOmKFjp",
    "outputId": "70b4a1a7-6252-4935-c245-33e31f4305c6"
   },
   "outputs": [],
   "source": [
    "result = []\n",
    "for index, prediction in enumerate(predictions):\n",
    "  probability = torch.max(prediction).item()\n",
    "  sentiment = config.id2label[torch.argmax(prediction).item()]\n",
    "  result.append({\"probability\": probability, \"label\": sentiment})\n",
    "pprint(result)"
   ]
  },
  {
   "cell_type": "markdown",
   "metadata": {
    "id": "NFkVtShVRIdQ"
   },
   "source": [
    "The end result matches what the pipeline originally produced (compare with the pipeline results)"
   ]
  },
  {
   "cell_type": "markdown",
   "metadata": {
    "id": "0V8rQK-9DQw4"
   },
   "source": [
    "# EXERCISE 1\n",
    "\n",
    "Write the code for analyzing the sentiment of the same raw_inputs using the model \"cardiffnlp/twitter-roberta-base-sentiment\"\n",
    "\n"
   ]
  },
  {
   "cell_type": "code",
   "execution_count": null,
   "metadata": {
    "id": "KNy8Z8QkONuX"
   },
   "outputs": [],
   "source": [
    "raw_inputs = [\n",
    "    \"I've been waiting for a HuggingFace course my whole life.\",\n",
    "    \"I hate this so much!\",\n",
    "]\n",
    "\n",
    "checkpoint = \"cardiffnlp/twitter-roberta-base-sentiment\"\n",
    "\n",
    "# Complete the codes for each of the task below\n",
    "\n",
    "# initialize tokenizer\n",
    "# initialize config\n",
    "# initialize model\n",
    "# create inputs for the model (from raw inputs)\n",
    "# get model outputs\n",
    "# convert logits to probabilities\n",
    "# get the labels for each item\n",
    "# print the result\n",
    "# Now, use pipeline to do the same task\n",
    "# compare the results"
   ]
  },
  {
   "cell_type": "markdown",
   "metadata": {
    "id": "zDwXMw7BRGuR"
   },
   "source": [
    "# EXERCISE 2\n",
    "* Finish the (unfinished) commented codes below\n",
    "* Instructions start with \"##\""
   ]
  },
  {
   "cell_type": "markdown",
   "metadata": {
    "id": "DIZ2uXcwROrq"
   },
   "source": [
    "# Creating a Token Classification Pipeline\n",
    "\n",
    "This section creates a named entity recognition (NER) pipeline using the Hugging Face transformers library. The pipeline provides quick access to a pretrained BERT model finetuned on the CoNLL 2003 NER dataset.\n",
    "\n",
    "The pipeline makes predictions on a sample input text, returning the predicted NER tags with scores for each token.\n"
   ]
  },
  {
   "cell_type": "code",
   "execution_count": null,
   "metadata": {
    "id": "xtfduFt8KNsC"
   },
   "outputs": [],
   "source": [
    "## Create a token classifier using pipeline\n",
    "# token_classifier ="
   ]
  },
  {
   "cell_type": "markdown",
   "metadata": {
    "id": "41KiWT4zaQtB"
   },
   "source": [
    "# Inspecting the Pipeline Output\n",
    "\n",
    "The raw JSON output from the NER pipeline is printed to inspect the predicted entity, score, index, word, start and end values for each tagged token."
   ]
  },
  {
   "cell_type": "code",
   "execution_count": null,
   "metadata": {
    "colab": {
     "base_uri": "https://localhost:8080/",
     "height": 83
    },
    "executionInfo": {
     "elapsed": 817,
     "status": "ok",
     "timestamp": 1689992931437,
     "user": {
      "displayName": "Santi Adavani",
      "userId": "01589529678393192778"
     },
     "user_tz": 420
    },
    "id": "_pT5v6bURTwt",
    "outputId": "a0dd4020-2a7f-4aaf-b295-bcf7696c3443"
   },
   "outputs": [],
   "source": [
    "ner_raw_inputs = \"My name is Wolfgang and I live in Berlin\"\n",
    "# result =\n",
    "# pprint(result)"
   ]
  },
  {
   "cell_type": "markdown",
   "metadata": {
    "id": "leUltJ7NaVvl"
   },
   "source": [
    "# Loading the Pipeline Components\n",
    "\n",
    "The lower level tokenizer, config, and model objects that compose the pipeline are loaded. This gives more control than just using the packaged pipeline.\n"
   ]
  },
  {
   "cell_type": "code",
   "execution_count": null,
   "metadata": {
    "id": "HWblGxnlReEL"
   },
   "outputs": [],
   "source": [
    "ner_checkpoint = \"dbmdz/bert-large-cased-finetuned-conll03-english\"\n",
    "# ner_tokenizer =\n",
    "# pprint(ner_tokenizer)"
   ]
  },
  {
   "cell_type": "markdown",
   "metadata": {
    "id": "unMzfgTead_I"
   },
   "source": [
    "# Tokenizing the Input\n",
    "\n",
    "The tokenizer preprocesses the raw text into tokenized ids, padding & truncating as needed to match the expected model input shape.\n"
   ]
  },
  {
   "cell_type": "code",
   "execution_count": null,
   "metadata": {
    "id": "2eC9_r9ySFC3"
   },
   "outputs": [],
   "source": [
    "# ner_model_inputs ="
   ]
  },
  {
   "cell_type": "markdown",
   "metadata": {
    "id": "6j0nBPH_aiab"
   },
   "source": [
    "# Passing Inputs to the Model\n",
    "\n",
    "The tokenized inputs are passed to the model to generate predictions. This uses the model directly instead of relying on the pipeline abstraction.\n"
   ]
  },
  {
   "cell_type": "code",
   "execution_count": null,
   "metadata": {
    "id": "6n2rRBU1SW_l"
   },
   "outputs": [],
   "source": [
    "## import the correct module for loading models\n",
    "# from transformers import\n",
    "\n",
    "# ner_model ="
   ]
  },
  {
   "cell_type": "code",
   "execution_count": null,
   "metadata": {
    "id": "W1ZBFv4hSbxk"
   },
   "outputs": [],
   "source": [
    "# ner_model_outputs =\n",
    "# pprint(ner_model_outputs)"
   ]
  },
  {
   "cell_type": "markdown",
   "metadata": {
    "id": "HcM6-5fqamNW"
   },
   "source": [
    "# Interpreting Model Outputs\n",
    "\n",
    "The raw tensor outputs are converted to probability scores over the possible entity tags for each token.\n"
   ]
  },
  {
   "cell_type": "code",
   "execution_count": null,
   "metadata": {
    "id": "I_6RkXDkSk5c"
   },
   "outputs": [],
   "source": [
    "# ner_predictions =\n",
    "# pprint(ner_predictions)"
   ]
  },
  {
   "cell_type": "markdown",
   "metadata": {
    "id": "RhnLNhd9aqso"
   },
   "source": [
    "# Converting to Human-Readable Outputs\n",
    "\n",
    "The probabilities are parsed to extract the highest scoring entity tag per token. The start and end offsets are looked up based on the original input text.\n",
    "\n",
    "This mirrors the output format returned by the pipeline to extract human-readable entity, score, start, end results.\n"
   ]
  },
  {
   "cell_type": "code",
   "execution_count": null,
   "metadata": {
    "id": "YEs2OO5DS5xv"
   },
   "outputs": [],
   "source": [
    "# ner_results= []\n",
    "# for index, prediction in enumerate(ner_predictions[0]):\n",
    "#   prediction_probability =\n",
    "#   prediction_id =\n",
    "#   if prediction_id > 0:\n",
    "#     entity =\n",
    "#     word =\n",
    "#     start =\n",
    "#     end =\n",
    "#     ner_results.append({\"entity\":entity,\"score\":prediction_probability, \"index\": index, \"word\": word, \"start\": start, \"end\": end})\n",
    "# pprint(ner_results)"
   ]
  },
  {
   "cell_type": "markdown",
   "metadata": {
    "id": "PtaO6ILIUWZR"
   },
   "source": [
    "# EXERCISE 3\n",
    "* Finish the (unfinished) commented codes below\n",
    "* Instructions start with \"##\""
   ]
  },
  {
   "cell_type": "markdown",
   "metadata": {
    "id": "aVah-hs3r-e3"
   },
   "source": [
    "# Load QA Model\n",
    "\n",
    "- qa_checkpoint: Specifies pretrained QA model from Hugging Face Hub to use\n",
    "\n",
    "- pipeline: Constructs question answering pipeline object using the QA model\n",
    "\n",
    "# Define Question and Context\n",
    "\n",
    "- question: Question text string to ask the model\n",
    "\n",
    "- context: Context paragraphs providing information to answer question\n",
    "\n",
    "# Get QA Predictions\n",
    "\n",
    "- qa_pipeline: Runs input question and context through model to make predictions\n",
    "\n",
    "- qa_results: Contains predicted answer text and confidence score\n",
    "\n",
    "- pprint: Prints prediction results in readable formatted output\n",
    "\n",
    "This code loads a pretrained QA model, defines a question and context, passes them through the pipeline to generate an answer prediction, and prints the prediction nicely formatted. The pipeline handles running the inputs through the full model to output the top answer text span and score."
   ]
  },
  {
   "cell_type": "code",
   "execution_count": null,
   "metadata": {
    "colab": {
     "base_uri": "https://localhost:8080/",
     "height": 34
    },
    "executionInfo": {
     "elapsed": 1585,
     "status": "ok",
     "timestamp": 1689994785516,
     "user": {
      "displayName": "Santi Adavani",
      "userId": "01589529678393192778"
     },
     "user_tz": 420
    },
    "id": "49J6LAnAdcs6",
    "outputId": "043b4357-ea00-4ac4-88af-1e7aca1826b4"
   },
   "outputs": [],
   "source": [
    "qa_checkpoint = \"deepset/roberta-base-squad2\"\n",
    "qa_pipeline = pipeline(\"question-answering\",model=qa_checkpoint)\n",
    "\n",
    "question = \"What is the capital of France?\"\n",
    "context = \"The capital of France is Paris.\"\n",
    "\n",
    "qa_results = qa_pipeline(question,context)\n",
    "pprint(qa_results)"
   ]
  },
  {
   "cell_type": "markdown",
   "metadata": {
    "id": "bVm6T12gsvlX"
   },
   "source": [
    "Loads pretrained question answering model using AutoModelForQuestionAnswering class.\n",
    "\n",
    "Loads corresponding tokenizer using AutoTokenizer that was used during model training.\n",
    "\n",
    "Tokenizer preprocesses text to numeric ids.\n",
    "\n",
    "Model generates start and end logits to predict answer span."
   ]
  },
  {
   "cell_type": "code",
   "execution_count": null,
   "metadata": {
    "id": "Y2lakssMbQk2"
   },
   "outputs": [],
   "source": [
    "## import the module AutoModelForQuestionAnswering from transformer and get the model and tokenizer\n",
    "\n",
    "# from import\n",
    "\n",
    "# qa_model =\n",
    "# qa_tokenizer ="
   ]
  },
  {
   "cell_type": "code",
   "execution_count": null,
   "metadata": {
    "id": "kHNud9vZcCfD"
   },
   "outputs": [],
   "source": [
    "\n",
    "# qa_model_inputs =\n",
    "# pprint(qa_model_inputs)"
   ]
  },
  {
   "cell_type": "code",
   "execution_count": null,
   "metadata": {
    "id": "7bzHR-bHcQ3g"
   },
   "outputs": [],
   "source": [
    "# qa_model_outputs =\n",
    "# pprint(qa_model_outputs)"
   ]
  },
  {
   "cell_type": "markdown",
   "metadata": {
    "id": "3A5H_FFpu8E_"
   },
   "source": [
    "Here is brief documentation for the provided code snippet:\n",
    "\n",
    "# Extract Logits\n",
    "\n",
    "- Get start and end logits from model outputs\n",
    "\n",
    "# Get Prediction Indices\n",
    "\n",
    "- Find index of maximum start and end logits\n",
    "\n",
    "# Decode Answer Text\n",
    "\n",
    "- Extract predicted answer tokens from input ids\n",
    "\n",
    "- Convert tokens back to text with tokenizer\n",
    "\n",
    "# Compute Probability\n",
    "\n",
    "- Take softmax of start and end logits\n",
    "\n",
    "- Find max joint probability of start and end\n",
    "\n",
    "# Format Human-Readable Output\n",
    "\n",
    "- Get start and end char offsets in context\n",
    "\n",
    "- Format into dict with score, text, offsets\n",
    "\n",
    "# Print Output\n",
    "\n",
    "- Display prediction result nicely formatted\n",
    "\n",
    "This takes the raw start and end logits from the model, picks the most likely start and end points, extracts the predicted answer text, computes the overall probability, and formats into a human-readable output with score and answer text."
   ]
  },
  {
   "cell_type": "code",
   "execution_count": null,
   "metadata": {
    "id": "fBVdlt0lceVt"
   },
   "outputs": [],
   "source": [
    "start_logits, end_logits = qa_model_outputs.start_logits, qa_model_outputs.end_logits"
   ]
  },
  {
   "cell_type": "code",
   "execution_count": null,
   "metadata": {
    "id": "yaVqcAlDcpk0"
   },
   "outputs": [],
   "source": [
    "## calculate the start and end positions of the logits\n",
    "\n",
    "# start_pos =\n",
    "# end_pos =\n",
    "# pprint((start_pos,end_pos))"
   ]
  },
  {
   "cell_type": "code",
   "execution_count": null,
   "metadata": {
    "id": "4swu5O59cwGe"
   },
   "outputs": [],
   "source": [
    "# answer_tokens =\n",
    "# answer =\n",
    "# start_probs, end_probs =\n",
    "# probability =\n",
    "# start =\n",
    "# end =\n",
    "# result = {\"score\": probability, \"answer\": answer, \"start\": start, \"end\": end}\n",
    "# pprint(result)"
   ]
  },
  {
   "cell_type": "code",
   "execution_count": null,
   "metadata": {
    "id": "8rE6SIrFVsaW"
   },
   "outputs": [],
   "source": []
  }
 ],
 "metadata": {
  "accelerator": "GPU",
  "colab": {
   "gpuType": "T4",
   "provenance": [
    {
     "file_id": "1OnohC0_RT86R1MR7uqkp4XmdCV8Gqx1N",
     "timestamp": 1690161477273
    }
   ]
  },
  "kernelspec": {
   "display_name": "Python 3",
   "name": "python3"
  },
  "language_info": {
   "name": "python"
  }
 },
 "nbformat": 4,
 "nbformat_minor": 0
}
